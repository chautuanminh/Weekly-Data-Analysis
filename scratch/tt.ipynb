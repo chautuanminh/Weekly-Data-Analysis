{
 "cells": [
  {
   "cell_type": "markdown",
   "id": "7b363bde",
   "metadata": {},
   "source": [
    "# This is a scraping data exercise"
   ]
  },
  {
   "cell_type": "markdown",
   "id": "91c1c373",
   "metadata": {},
   "source": [
    "## import"
   ]
  },
  {
   "cell_type": "code",
   "execution_count": 5,
   "id": "45057333",
   "metadata": {},
   "outputs": [
    {
     "name": "stdout",
     "output_type": "stream",
     "text": [
      "Requirement already satisfied: requests in c:\\users\\chinh ly thuc\\appdata\\local\\programs\\python\\python312\\lib\\site-packages (2.32.2)\n",
      "Requirement already satisfied: charset-normalizer<4,>=2 in c:\\users\\chinh ly thuc\\appdata\\local\\programs\\python\\python312\\lib\\site-packages (from requests) (3.3.2)\n",
      "Requirement already satisfied: idna<4,>=2.5 in c:\\users\\chinh ly thuc\\appdata\\local\\programs\\python\\python312\\lib\\site-packages (from requests) (3.7)\n",
      "Requirement already satisfied: urllib3<3,>=1.21.1 in c:\\users\\chinh ly thuc\\appdata\\local\\programs\\python\\python312\\lib\\site-packages (from requests) (2.2.1)\n",
      "Requirement already satisfied: certifi>=2017.4.17 in c:\\users\\chinh ly thuc\\appdata\\local\\programs\\python\\python312\\lib\\site-packages (from requests) (2024.2.2)\n",
      "Note: you may need to restart the kernel to use updated packages.\n"
     ]
    },
    {
     "name": "stderr",
     "output_type": "stream",
     "text": [
      "\n",
      "[notice] A new release of pip is available: 24.0 -> 25.2\n",
      "[notice] To update, run: python.exe -m pip install --upgrade pip\n"
     ]
    }
   ],
   "source": [
    "pip install requests"
   ]
  },
  {
   "cell_type": "code",
   "execution_count": 7,
   "id": "9f256a28",
   "metadata": {},
   "outputs": [
    {
     "name": "stdout",
     "output_type": "stream",
     "text": [
      "Requirement already satisfied: selenium in c:\\users\\chinh ly thuc\\appdata\\local\\programs\\python\\python312\\lib\\site-packages (4.31.0)\n",
      "Requirement already satisfied: urllib3<3,>=1.26 in c:\\users\\chinh ly thuc\\appdata\\local\\programs\\python\\python312\\lib\\site-packages (from urllib3[socks]<3,>=1.26->selenium) (2.2.1)\n",
      "Requirement already satisfied: trio~=0.17 in c:\\users\\chinh ly thuc\\appdata\\local\\programs\\python\\python312\\lib\\site-packages (from selenium) (0.29.0)\n",
      "Requirement already satisfied: trio-websocket~=0.9 in c:\\users\\chinh ly thuc\\appdata\\local\\programs\\python\\python312\\lib\\site-packages (from selenium) (0.12.2)\n",
      "Requirement already satisfied: certifi>=2021.10.8 in c:\\users\\chinh ly thuc\\appdata\\local\\programs\\python\\python312\\lib\\site-packages (from selenium) (2024.2.2)\n",
      "Requirement already satisfied: typing_extensions~=4.9 in c:\\users\\chinh ly thuc\\appdata\\local\\programs\\python\\python312\\lib\\site-packages (from selenium) (4.13.2)\n",
      "Requirement already satisfied: websocket-client~=1.8 in c:\\users\\chinh ly thuc\\appdata\\local\\programs\\python\\python312\\lib\\site-packages (from selenium) (1.8.0)\n",
      "Requirement already satisfied: attrs>=23.2.0 in c:\\users\\chinh ly thuc\\appdata\\local\\programs\\python\\python312\\lib\\site-packages (from trio~=0.17->selenium) (23.2.0)\n",
      "Requirement already satisfied: sortedcontainers in c:\\users\\chinh ly thuc\\appdata\\local\\programs\\python\\python312\\lib\\site-packages (from trio~=0.17->selenium) (2.4.0)\n",
      "Requirement already satisfied: idna in c:\\users\\chinh ly thuc\\appdata\\local\\programs\\python\\python312\\lib\\site-packages (from trio~=0.17->selenium) (3.7)\n",
      "Requirement already satisfied: outcome in c:\\users\\chinh ly thuc\\appdata\\local\\programs\\python\\python312\\lib\\site-packages (from trio~=0.17->selenium) (1.3.0.post0)\n",
      "Requirement already satisfied: sniffio>=1.3.0 in c:\\users\\chinh ly thuc\\appdata\\local\\programs\\python\\python312\\lib\\site-packages (from trio~=0.17->selenium) (1.3.1)\n",
      "Requirement already satisfied: cffi>=1.14 in c:\\users\\chinh ly thuc\\appdata\\local\\programs\\python\\python312\\lib\\site-packages (from trio~=0.17->selenium) (1.16.0)\n",
      "Requirement already satisfied: wsproto>=0.14 in c:\\users\\chinh ly thuc\\appdata\\local\\programs\\python\\python312\\lib\\site-packages (from trio-websocket~=0.9->selenium) (1.2.0)\n",
      "Requirement already satisfied: pysocks!=1.5.7,<2.0,>=1.5.6 in c:\\users\\chinh ly thuc\\appdata\\local\\programs\\python\\python312\\lib\\site-packages (from urllib3[socks]<3,>=1.26->selenium) (1.7.1)\n",
      "Requirement already satisfied: pycparser in c:\\users\\chinh ly thuc\\appdata\\local\\programs\\python\\python312\\lib\\site-packages (from cffi>=1.14->trio~=0.17->selenium) (2.22)\n",
      "Requirement already satisfied: h11<1,>=0.9.0 in c:\\users\\chinh ly thuc\\appdata\\local\\programs\\python\\python312\\lib\\site-packages (from wsproto>=0.14->trio-websocket~=0.9->selenium) (0.14.0)\n",
      "Note: you may need to restart the kernel to use updated packages.\n"
     ]
    },
    {
     "name": "stderr",
     "output_type": "stream",
     "text": [
      "\n",
      "[notice] A new release of pip is available: 24.0 -> 25.2\n",
      "[notice] To update, run: python.exe -m pip install --upgrade pip\n"
     ]
    }
   ],
   "source": [
    "pip install selenium"
   ]
  },
  {
   "cell_type": "code",
   "execution_count": 8,
   "id": "8b855593",
   "metadata": {},
   "outputs": [
    {
     "name": "stdout",
     "output_type": "stream",
     "text": [
      "Collecting webdriver_manager\n",
      "  Downloading webdriver_manager-4.0.2-py2.py3-none-any.whl.metadata (12 kB)\n",
      "Requirement already satisfied: requests in c:\\users\\chinh ly thuc\\appdata\\local\\programs\\python\\python312\\lib\\site-packages (from webdriver_manager) (2.32.2)\n",
      "Collecting python-dotenv (from webdriver_manager)\n",
      "  Downloading python_dotenv-1.1.1-py3-none-any.whl.metadata (24 kB)\n",
      "Requirement already satisfied: packaging in c:\\users\\chinh ly thuc\\appdata\\local\\programs\\python\\python312\\lib\\site-packages (from webdriver_manager) (24.0)\n",
      "Requirement already satisfied: charset-normalizer<4,>=2 in c:\\users\\chinh ly thuc\\appdata\\local\\programs\\python\\python312\\lib\\site-packages (from requests->webdriver_manager) (3.3.2)\n",
      "Requirement already satisfied: idna<4,>=2.5 in c:\\users\\chinh ly thuc\\appdata\\local\\programs\\python\\python312\\lib\\site-packages (from requests->webdriver_manager) (3.7)\n",
      "Requirement already satisfied: urllib3<3,>=1.21.1 in c:\\users\\chinh ly thuc\\appdata\\local\\programs\\python\\python312\\lib\\site-packages (from requests->webdriver_manager) (2.2.1)\n",
      "Requirement already satisfied: certifi>=2017.4.17 in c:\\users\\chinh ly thuc\\appdata\\local\\programs\\python\\python312\\lib\\site-packages (from requests->webdriver_manager) (2024.2.2)\n",
      "Downloading webdriver_manager-4.0.2-py2.py3-none-any.whl (27 kB)\n",
      "Downloading python_dotenv-1.1.1-py3-none-any.whl (20 kB)\n",
      "Installing collected packages: python-dotenv, webdriver_manager\n",
      "Successfully installed python-dotenv-1.1.1 webdriver_manager-4.0.2\n",
      "Note: you may need to restart the kernel to use updated packages.\n"
     ]
    },
    {
     "name": "stderr",
     "output_type": "stream",
     "text": [
      "\n",
      "[notice] A new release of pip is available: 24.0 -> 25.2\n",
      "[notice] To update, run: python.exe -m pip install --upgrade pip\n"
     ]
    }
   ],
   "source": [
    "pip install webdriver_manager"
   ]
  },
  {
   "cell_type": "code",
   "execution_count": 18,
   "id": "c2632283",
   "metadata": {},
   "outputs": [],
   "source": [
    "import pandas as pd\n",
    "import requests\n",
    "import numpy as np\n",
    "from bs4 import BeautifulSoup\n",
    "from selenium import webdriver\n",
    "from selenium.webdriver.chrome.service import Service\n",
    "from webdriver_manager.chrome import ChromeDriverManager\n",
    "import time\n",
    "import shutil\n",
    "from selenium.webdriver.chrome.options import Options\n",
    "from selenium.webdriver.common.by import By"
   ]
  },
  {
   "cell_type": "code",
   "execution_count": 13,
   "id": "09d50877",
   "metadata": {},
   "outputs": [],
   "source": [
    "chrome_path = shutil.which(\"chromium-browser\") or shutil.which(\"chromium\")\n",
    "driver_path = shutil.which(\"chromedriver\")"
   ]
  },
  {
   "cell_type": "code",
   "execution_count": 31,
   "id": "1fae0d90",
   "metadata": {},
   "outputs": [
    {
     "name": "stdout",
     "output_type": "stream",
     "text": [
      "Page title: Dự án căn hộ chung cư mới nhất T9/2025\n"
     ]
    }
   ],
   "source": [
    "# Configure Chrome options\n",
    "options = Options()\n",
    "options.add_argument(\"--start-maximized\")   # open browser maximized\n",
    "# options.add_argument(\"--headless=new\")    # run without opening a window (optional)\n",
    "\n",
    "# Start WebDriver\n",
    "service = Service(ChromeDriverManager().install())\n",
    "driver = webdriver.Chrome(service=service, options=options)\n",
    "\n",
    "# Test by opening a webpage\n",
    "driver.get(\"https://batdongsan.com.vn/du-an-can-ho-chung-cu\")\n",
    "print(\"Page title:\", driver.title)\n"
   ]
  },
  {
   "cell_type": "code",
   "execution_count": null,
   "id": "551ca611",
   "metadata": {},
   "outputs": [],
   "source": [
    "## body > div.re__main > div.re__project-main-container.re__clearfix.re__project-main-padding > div.re__project-main-left > div > div.re__prj-list-full\n",
    "#body > div.re__main > div.re__project-main-container.re__clearfix.re__project-main-padding > div.re__project-main-left > div > div.re__prj-list-full > div:nth-child(1) > a\n",
    "# class --> js__project-card js__card-project-web re__prj-card-full"
   ]
  },
  {
   "cell_type": "code",
   "execution_count": 34,
   "id": "3d4a250f",
   "metadata": {},
   "outputs": [
    {
     "name": "stdout",
     "output_type": "stream",
     "text": [
      "Title: Trellia Cove\n",
      "Location: Đường Nguyễn Văn Linh, Xã Bình Hưng, Huyện Bình Chánh, Hồ Chí Minh\n",
      "Area: 8.408 m²\n",
      "Company: Công ty CP Đầu tư Nam Long\n",
      "--------------------------------------------------\n",
      "Error extracting a card: Message: no such element: Unable to locate element: {\"method\":\"css selector\",\"selector\":\".re__span-full-max-width\"}\n",
      "  (Session info: chrome=140.0.7339.128); For documentation on this error, please visit: https://www.selenium.dev/documentation/webdriver/troubleshooting/errors#no-such-element-exception\n",
      "Stacktrace:\n",
      "\tGetHandleVerifier [0x0x11dd2a3+66419]\n",
      "\tGetHandleVerifier [0x0x11dd2e4+66484]\n",
      "\t(No symbol) [0x0xfb4bd3]\n",
      "\t(No symbol) [0x0xffe958]\n",
      "\t(No symbol) [0x0xffecfb]\n",
      "\t(No symbol) [0x0xff3f21]\n",
      "\t(No symbol) [0x0x1021064]\n",
      "\t(No symbol) [0x0xff3e24]\n",
      "\t(No symbol) [0x0x10211d4]\n",
      "\t(No symbol) [0x0x10428a1]\n",
      "\t(No symbol) [0x0x1020e16]\n",
      "\t(No symbol) [0x0xff25ce]\n",
      "\t(No symbol) [0x0xff34a4]\n",
      "\tGetHandleVerifier [0x0x1425ee3+2461619]\n",
      "\tGetHandleVerifier [0x0x1420f66+2441270]\n",
      "\tGetHandleVerifier [0x0x1206242+234258]\n",
      "\tGetHandleVerifier [0x0x11f6208+168664]\n",
      "\tGetHandleVerifier [0x0x11fd1ad+197245]\n",
      "\tGetHandleVerifier [0x0x11e55f8+100040]\n",
      "\tGetHandleVerifier [0x0x11e5792+100450]\n",
      "\tGetHandleVerifier [0x0x11cf74a+10266]\n",
      "\tBaseThreadInitThunk [0x0x76255d49+25]\n",
      "\tRtlInitializeExceptionChain [0x0x77a2d6db+107]\n",
      "\tRtlGetAppContainerNamedObjectPath [0x0x77a2d661+561]\n",
      "\n",
      "Error extracting a card: list index out of range\n",
      "Error extracting a card: Message: no such element: Unable to locate element: {\"method\":\"css selector\",\"selector\":\".re__span-full-max-width\"}\n",
      "  (Session info: chrome=140.0.7339.128); For documentation on this error, please visit: https://www.selenium.dev/documentation/webdriver/troubleshooting/errors#no-such-element-exception\n",
      "Stacktrace:\n",
      "\tGetHandleVerifier [0x0x11dd2a3+66419]\n",
      "\tGetHandleVerifier [0x0x11dd2e4+66484]\n",
      "\t(No symbol) [0x0xfb4bd3]\n",
      "\t(No symbol) [0x0xffe958]\n",
      "\t(No symbol) [0x0xffecfb]\n",
      "\t(No symbol) [0x0xff3f21]\n",
      "\t(No symbol) [0x0x1021064]\n",
      "\t(No symbol) [0x0xff3e24]\n",
      "\t(No symbol) [0x0x10211d4]\n",
      "\t(No symbol) [0x0x10428a1]\n",
      "\t(No symbol) [0x0x1020e16]\n",
      "\t(No symbol) [0x0xff25ce]\n",
      "\t(No symbol) [0x0xff34a4]\n",
      "\tGetHandleVerifier [0x0x1425ee3+2461619]\n",
      "\tGetHandleVerifier [0x0x1420f66+2441270]\n",
      "\tGetHandleVerifier [0x0x1206242+234258]\n",
      "\tGetHandleVerifier [0x0x11f6208+168664]\n",
      "\tGetHandleVerifier [0x0x11fd1ad+197245]\n",
      "\tGetHandleVerifier [0x0x11e55f8+100040]\n",
      "\tGetHandleVerifier [0x0x11e5792+100450]\n",
      "\tGetHandleVerifier [0x0x11cf74a+10266]\n",
      "\tBaseThreadInitThunk [0x0x76255d49+25]\n",
      "\tRtlInitializeExceptionChain [0x0x77a2d6db+107]\n",
      "\tRtlGetAppContainerNamedObjectPath [0x0x77a2d661+561]\n",
      "\n",
      "Error extracting a card: Message: no such element: Unable to locate element: {\"method\":\"css selector\",\"selector\":\".re__span-full-max-width\"}\n",
      "  (Session info: chrome=140.0.7339.128); For documentation on this error, please visit: https://www.selenium.dev/documentation/webdriver/troubleshooting/errors#no-such-element-exception\n",
      "Stacktrace:\n",
      "\tGetHandleVerifier [0x0x11dd2a3+66419]\n",
      "\tGetHandleVerifier [0x0x11dd2e4+66484]\n",
      "\t(No symbol) [0x0xfb4bd3]\n",
      "\t(No symbol) [0x0xffe958]\n",
      "\t(No symbol) [0x0xffecfb]\n",
      "\t(No symbol) [0x0xff3f21]\n",
      "\t(No symbol) [0x0x1021064]\n",
      "\t(No symbol) [0x0xff3e24]\n",
      "\t(No symbol) [0x0x10211d4]\n",
      "\t(No symbol) [0x0x10428a1]\n",
      "\t(No symbol) [0x0x1020e16]\n",
      "\t(No symbol) [0x0xff25ce]\n",
      "\t(No symbol) [0x0xff34a4]\n",
      "\tGetHandleVerifier [0x0x1425ee3+2461619]\n",
      "\tGetHandleVerifier [0x0x1420f66+2441270]\n",
      "\tGetHandleVerifier [0x0x1206242+234258]\n",
      "\tGetHandleVerifier [0x0x11f6208+168664]\n",
      "\tGetHandleVerifier [0x0x11fd1ad+197245]\n",
      "\tGetHandleVerifier [0x0x11e55f8+100040]\n",
      "\tGetHandleVerifier [0x0x11e5792+100450]\n",
      "\tGetHandleVerifier [0x0x11cf74a+10266]\n",
      "\tBaseThreadInitThunk [0x0x76255d49+25]\n",
      "\tRtlInitializeExceptionChain [0x0x77a2d6db+107]\n",
      "\tRtlGetAppContainerNamedObjectPath [0x0x77a2d661+561]\n",
      "\n",
      "Error extracting a card: Message: no such element: Unable to locate element: {\"method\":\"css selector\",\"selector\":\".re__span-full-max-width\"}\n",
      "  (Session info: chrome=140.0.7339.128); For documentation on this error, please visit: https://www.selenium.dev/documentation/webdriver/troubleshooting/errors#no-such-element-exception\n",
      "Stacktrace:\n",
      "\tGetHandleVerifier [0x0x11dd2a3+66419]\n",
      "\tGetHandleVerifier [0x0x11dd2e4+66484]\n",
      "\t(No symbol) [0x0xfb4bd3]\n",
      "\t(No symbol) [0x0xffe958]\n",
      "\t(No symbol) [0x0xffecfb]\n",
      "\t(No symbol) [0x0xff3f21]\n",
      "\t(No symbol) [0x0x1021064]\n",
      "\t(No symbol) [0x0xff3e24]\n",
      "\t(No symbol) [0x0x10211d4]\n",
      "\t(No symbol) [0x0x10428a1]\n",
      "\t(No symbol) [0x0x1020e16]\n",
      "\t(No symbol) [0x0xff25ce]\n",
      "\t(No symbol) [0x0xff34a4]\n",
      "\tGetHandleVerifier [0x0x1425ee3+2461619]\n",
      "\tGetHandleVerifier [0x0x1420f66+2441270]\n",
      "\tGetHandleVerifier [0x0x1206242+234258]\n",
      "\tGetHandleVerifier [0x0x11f6208+168664]\n",
      "\tGetHandleVerifier [0x0x11fd1ad+197245]\n",
      "\tGetHandleVerifier [0x0x11e55f8+100040]\n",
      "\tGetHandleVerifier [0x0x11e5792+100450]\n",
      "\tGetHandleVerifier [0x0x11cf74a+10266]\n",
      "\tBaseThreadInitThunk [0x0x76255d49+25]\n",
      "\tRtlInitializeExceptionChain [0x0x77a2d6db+107]\n",
      "\tRtlGetAppContainerNamedObjectPath [0x0x77a2d661+561]\n",
      "\n",
      "Title: Lumière Bayfront\n",
      "Location: Thị trấn Trâu Quỳ, Huyện Gia Lâm, Hà Nội\n",
      "Area: 4\n",
      "Company: Masterise Homes\n",
      "--------------------------------------------------\n",
      "Title: Spana Tower\n",
      "Location: Đường Nguyễn Phước Lan, Phường Hòa Xuân, Quận Cẩm Lệ, Đà Nẵng\n",
      "Area: 4.213 m²\n",
      "Company: Tập đoàn Sun Group\n",
      "--------------------------------------------------\n",
      "Error extracting a card: Message: no such element: Unable to locate element: {\"method\":\"css selector\",\"selector\":\".re__span-full-max-width\"}\n",
      "  (Session info: chrome=140.0.7339.128); For documentation on this error, please visit: https://www.selenium.dev/documentation/webdriver/troubleshooting/errors#no-such-element-exception\n",
      "Stacktrace:\n",
      "\tGetHandleVerifier [0x0x11dd2a3+66419]\n",
      "\tGetHandleVerifier [0x0x11dd2e4+66484]\n",
      "\t(No symbol) [0x0xfb4bd3]\n",
      "\t(No symbol) [0x0xffe958]\n",
      "\t(No symbol) [0x0xffecfb]\n",
      "\t(No symbol) [0x0xff3f21]\n",
      "\t(No symbol) [0x0x1021064]\n",
      "\t(No symbol) [0x0xff3e24]\n",
      "\t(No symbol) [0x0x10211d4]\n",
      "\t(No symbol) [0x0x10428a1]\n",
      "\t(No symbol) [0x0x1020e16]\n",
      "\t(No symbol) [0x0xff25ce]\n",
      "\t(No symbol) [0x0xff34a4]\n",
      "\tGetHandleVerifier [0x0x1425ee3+2461619]\n",
      "\tGetHandleVerifier [0x0x1420f66+2441270]\n",
      "\tGetHandleVerifier [0x0x1206242+234258]\n",
      "\tGetHandleVerifier [0x0x11f6208+168664]\n",
      "\tGetHandleVerifier [0x0x11fd1ad+197245]\n",
      "\tGetHandleVerifier [0x0x11e55f8+100040]\n",
      "\tGetHandleVerifier [0x0x11e5792+100450]\n",
      "\tGetHandleVerifier [0x0x11cf74a+10266]\n",
      "\tBaseThreadInitThunk [0x0x76255d49+25]\n",
      "\tRtlInitializeExceptionChain [0x0x77a2d6db+107]\n",
      "\tRtlGetAppContainerNamedObjectPath [0x0x77a2d661+561]\n",
      "\n",
      "Title: Yên Hòa Sunshine\n",
      "Location: Đường Vũ Phạm Hàm, Phường Trung Hòa, Quận Cầu Giấy, Hà Nội\n",
      "Area: 5.597 m²\n",
      "Company: Công ty CP Đầu tư Xây dựng Dân dụng Hà Nội\n",
      "--------------------------------------------------\n"
     ]
    }
   ],
   "source": [
    "cards = driver.find_elements(\n",
    "    \"css selector\", \"div.js__project-card.js__card-project-web.re__prj-card-full\"\n",
    ")\n",
    "\n",
    "data = []\n",
    "\n",
    "\n",
    "for card in cards:\n",
    "    try:\n",
    "        # Title\n",
    "        title = card.find_element(By.CLASS_NAME, \"re__prj-card-title\").text\n",
    "\n",
    "        # Location\n",
    "        location = card.find_element(By.CLASS_NAME, \"re__prj-card-location\").text\n",
    "\n",
    "        # Area (first config value)\n",
    "        area = card.find_elements(By.CLASS_NAME, \"re__prj-card-config-value\")[0].text\n",
    "\n",
    "        # Company\n",
    "        company = card.find_element(By.CLASS_NAME, \"re__span-full-max-width\").text\n",
    "\n",
    "        print(\"Title:\", title)\n",
    "        print(\"Location:\", location)\n",
    "        print(\"Area:\", area)\n",
    "        print(\"Company:\", company)\n",
    "        print(\"-\" * 50)\n",
    "    except Exception as e:\n",
    "        print(\"Error extracting a card:\", e)\n",
    "    data.append({\n",
    "        \"Title\": title,\n",
    "        \"Location\": location,\n",
    "        \"Area\": area,\n",
    "        \"Company\" : company,\n",
    "    })\n",
    "\n",
    "# Convert to DataFrame\n"
   ]
  },
  {
   "cell_type": "code",
   "execution_count": 35,
   "id": "342c7e2c",
   "metadata": {},
   "outputs": [
    {
     "name": "stdout",
     "output_type": "stream",
     "text": [
      "                 Title                                           Location  \\\n",
      "0         Trellia Cove  Đường Nguyễn Văn Linh, Xã Bình Hưng, Huyện Bìn...   \n",
      "1      Luxora Vĩnh Yên      Phường Đống Đa, Thành phố Vĩnh Yên, Vĩnh Phúc   \n",
      "2  Masteri Sky Quarter               Xã Tân Hội, Huyện Đan Phượng, Hà Nội   \n",
      "3       Legacy Hinoiri             Xã Thạch Hòa, Huyện Thạch Thất, Hà Nội   \n",
      "4          Bcons Asahi  Đường Quốc lộ 1K, Phường Bình An, Thành phố Dĩ...   \n",
      "\n",
      "       Area                     Company  \n",
      "0  8.408 m²  Công ty CP Đầu tư Nam Long  \n",
      "1  5.211 m²  Công ty CP Đầu tư Nam Long  \n",
      "2  5.211 m²  Công ty CP Đầu tư Nam Long  \n",
      "3  8.697 m²  Công ty CP Đầu tư Nam Long  \n",
      "4  3.233 m²  Công ty CP Đầu tư Nam Long  \n"
     ]
    }
   ],
   "source": [
    "df = pd.DataFrame(data)\n",
    "\n",
    "# Save to CSV\n",
    "df.to_csv(\"batdongsan_projects.csv\", index=False, encoding=\"utf-8-sig\")\n",
    "\n",
    "print(df.head())"
   ]
  },
  {
   "cell_type": "code",
   "execution_count": null,
   "id": "f3b29875",
   "metadata": {},
   "outputs": [],
   "source": []
  }
 ],
 "metadata": {
  "kernelspec": {
   "display_name": "Python 3",
   "language": "python",
   "name": "python3"
  },
  "language_info": {
   "codemirror_mode": {
    "name": "ipython",
    "version": 3
   },
   "file_extension": ".py",
   "mimetype": "text/x-python",
   "name": "python",
   "nbconvert_exporter": "python",
   "pygments_lexer": "ipython3",
   "version": "3.12.3"
  }
 },
 "nbformat": 4,
 "nbformat_minor": 5
}
